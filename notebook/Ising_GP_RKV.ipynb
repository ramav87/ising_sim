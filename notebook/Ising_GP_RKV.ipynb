{
 "cells": [
  {
   "cell_type": "markdown",
   "metadata": {
    "colab_type": "text",
    "id": "xs7YyiP05Yju"
   },
   "source": [
    "# Ising Simulation\n",
    "\n",
    "This class is written to accept $J$ matrices and perform 2D Ising simulations on  a square lattice with $N^2$ sites.\n",
    "\n"
   ]
  },
  {
   "cell_type": "markdown",
   "metadata": {
    "colab_type": "text",
    "id": "3k26GWOIWhPc"
   },
   "source": [
    "# Import functions and modules"
   ]
  },
  {
   "cell_type": "code",
   "execution_count": 1,
   "metadata": {
    "colab": {},
    "colab_type": "code",
    "id": "N5w5TjIWh50u"
   },
   "outputs": [],
   "source": [
    "import numpy as np\n",
    "import matplotlib.pyplot as plt\n",
    "from scipy.stats import norm\n",
    "from scipy.optimize import fmin, minimize\n",
    "\n",
    "from isingsim import IsingSim, compress_histogram, load_club_list, sd2_loss, loss_func\n"
   ]
  },
  {
   "cell_type": "code",
   "execution_count": 2,
   "metadata": {},
   "outputs": [],
   "source": [
    "#Needed for histogram compression - a list of configurations to 'club together' due to symmetry\n",
    "# You can define your own if you wish.\n",
    "club_list = load_club_list('club_list.txt')"
   ]
  },
  {
   "cell_type": "markdown",
   "metadata": {
    "colab_type": "text",
    "id": "mbDG36qaSVHV"
   },
   "source": [
    "# Working Section\n",
    "\n",
    "Here we define the model. We are going with a random bond model for nearest neighbors only. This is defined by scipy distributions to sample from"
   ]
  },
  {
   "cell_type": "code",
   "execution_count": 3,
   "metadata": {
    "colab": {},
    "colab_type": "code",
    "id": "Fy-xkLBRe46C"
   },
   "outputs": [],
   "source": [
    "#define the model. You should supply a J_mat, like the one below\n",
    "\n",
    "J_mat = [[0,0,0,0,0],\n",
    "         [0,0.0,1.0,0,0],\n",
    "         [0,1.0,0,1.0,0],\n",
    "         [0,0,1.0,0,0],\n",
    "         [0,0,0,0,0]\n",
    "         ]\n",
    "\n",
    "#Instantiate Model\n",
    "ising_model =  IsingSim(N=20, J_mat = np.array(J_mat), save_trajectories=True, T = 2.5, \n",
    "                        eqSteps =500, mcSteps = 500)"
   ]
  },
  {
   "cell_type": "markdown",
   "metadata": {
    "colab_type": "text",
    "id": "THT6_0ITUTvj"
   },
   "source": [
    "## Run the simulation\n",
    "\n",
    "It should take five minutes or so. Need to explore ways to speed this up. Cython should be promising."
   ]
  },
  {
   "cell_type": "code",
   "execution_count": 4,
   "metadata": {
    "colab": {
     "base_uri": "https://localhost:8080/",
     "height": 211
    },
    "colab_type": "code",
    "id": "CLIlps2Ix_bU",
    "outputId": "cb143bce-58a2-40c8-c1c0-4d45aaeacfc7"
   },
   "outputs": [
    {
     "name": "stderr",
     "output_type": "stream",
     "text": [
      "  1%|          | 4/500 [00:00<00:16, 30.68it/s]"
     ]
    },
    {
     "name": "stdout",
     "output_type": "stream",
     "text": [
      "\n",
      "---Performing Equlibration---\n",
      "\n"
     ]
    },
    {
     "name": "stderr",
     "output_type": "stream",
     "text": [
      "100%|██████████| 500/500 [00:16<00:00, 29.97it/s]\n",
      "  0%|          | 2/500 [00:00<00:29, 16.83it/s]"
     ]
    },
    {
     "name": "stdout",
     "output_type": "stream",
     "text": [
      "\n",
      "---Finished...\n",
      "----Performing MC Moves----\n",
      "\n"
     ]
    },
    {
     "name": "stderr",
     "output_type": "stream",
     "text": [
      "100%|██████████| 500/500 [00:28<00:00, 18.97it/s]"
     ]
    },
    {
     "name": "stdout",
     "output_type": "stream",
     "text": [
      "Completed. Saving\n"
     ]
    },
    {
     "name": "stderr",
     "output_type": "stream",
     "text": [
      "\n"
     ]
    },
    {
     "data": {
      "text/plain": [
       "'Completed simulation'"
      ]
     },
     "execution_count": 4,
     "metadata": {},
     "output_type": "execute_result"
    }
   ],
   "source": [
    "ising_model.performIsingSim()"
   ]
  },
  {
   "cell_type": "markdown",
   "metadata": {
    "colab_type": "text",
    "id": "wtu1b4TlUgho"
   },
   "source": [
    "## Plot the results"
   ]
  },
  {
   "cell_type": "code",
   "execution_count": 5,
   "metadata": {
    "colab": {
     "base_uri": "https://localhost:8080/",
     "height": 228
    },
    "colab_type": "code",
    "id": "glY8dQHrfd5Q",
    "outputId": "07a7266d-6079-4c1e-bf3b-96db577eec4c"
   },
   "outputs": [
    {
     "name": "stdout",
     "output_type": "stream",
     "text": [
      "\n",
      "Energy: -0.564860\n",
      "Susceptibility: 7.856702 \n",
      "Magnetization 0.336820 \n",
      "Specific Heat: 0.264997\n",
      "\n"
     ]
    },
    {
     "data": {
      "text/plain": [
       "<BarContainer object of 32 artists>"
      ]
     },
     "execution_count": 5,
     "metadata": {},
     "output_type": "execute_result"
    },
    {
     "data": {
      "image/png": "[encoded data removed]",
      "text/plain": [
       "<Figure size 432x288 with 2 Axes>"
      ]
     },
     "metadata": {
      "needs_background": "light"
     },
     "output_type": "display_data"
    },
    {
     "data": {
      "image/png": "[encoded data removed]",
      "text/plain": [
       "<Figure size 432x288 with 1 Axes>"
      ]
     },
     "metadata": {
      "needs_background": "light"
     },
     "output_type": "display_data"
    }
   ],
   "source": [
    "results = ising_model.results\n",
    "print(\"\\nEnergy: {0:2f}\\nSusceptibility: {1:2f} \\nMagnetization {2:2f} \\nSpecific Heat: {3:2f}\\n\".format(\n",
    "    results['Energy'], \n",
    "      results['Susceptibility'], \n",
    "      results['Magnetization'], \n",
    "      results['SpecificHeat']))\n",
    "\n",
    "config = results['config']\n",
    "histogram = results['Histogram']\n",
    "\n",
    "plt.figure()\n",
    "plt.imshow(config[-1,:,:])\n",
    "plt.colorbar()\n",
    "\n",
    "plt.figure(0)\n",
    "plt.bar(np.arange(len(histogram)), histogram)"
   ]
  },
  {
   "cell_type": "markdown",
   "metadata": {},
   "source": [
    "# Do some optimization"
   ]
  },
  {
   "cell_type": "code",
   "execution_count": null,
   "metadata": {
    "scrolled": true
   },
   "outputs": [
    {
     "name": "stderr",
     "output_type": "stream",
     "text": [
      "  2%|▏         | 8/500 [00:00<00:14, 34.59it/s]"
     ]
    },
    {
     "name": "stdout",
     "output_type": "stream",
     "text": [
      "J value now is [0.8]\n",
      "\n",
      "---Performing Equlibration---\n",
      "\n"
     ]
    },
    {
     "name": "stderr",
     "output_type": "stream",
     "text": [
      "100%|██████████| 500/500 [00:15<00:00, 33.38it/s]\n",
      "  0%|          | 2/500 [00:00<00:27, 18.34it/s]"
     ]
    },
    {
     "name": "stdout",
     "output_type": "stream",
     "text": [
      "\n",
      "---Finished...\n",
      "----Performing MC Moves----\n",
      "\n"
     ]
    },
    {
     "name": "stderr",
     "output_type": "stream",
     "text": [
      "100%|██████████| 500/500 [00:25<00:00, 20.04it/s]\n",
      "  2%|▏         | 8/500 [00:00<00:14, 33.96it/s]"
     ]
    },
    {
     "name": "stdout",
     "output_type": "stream",
     "text": [
      "Completed. Saving\n",
      "Current loss is 0.10379169469373899\n",
      "J value now is [0.8]\n",
      "\n",
      "---Performing Equlibration---\n",
      "\n"
     ]
    },
    {
     "name": "stderr",
     "output_type": "stream",
     "text": [
      "100%|██████████| 500/500 [00:14<00:00, 34.77it/s]\n",
      "  1%|          | 3/500 [00:00<00:23, 21.44it/s]"
     ]
    },
    {
     "name": "stdout",
     "output_type": "stream",
     "text": [
      "\n",
      "---Finished...\n",
      "----Performing MC Moves----\n",
      "\n"
     ]
    },
    {
     "name": "stderr",
     "output_type": "stream",
     "text": [
      "100%|██████████| 500/500 [00:24<00:00, 20.78it/s]\n",
      "  1%|          | 4/500 [00:00<00:13, 35.58it/s]"
     ]
    },
    {
     "name": "stdout",
     "output_type": "stream",
     "text": [
      "Completed. Saving\n",
      "Current loss is 0.13885265148490208\n",
      "J value now is [0.9]\n",
      "\n",
      "---Performing Equlibration---\n",
      "\n"
     ]
    },
    {
     "name": "stderr",
     "output_type": "stream",
     "text": [
      "100%|██████████| 500/500 [00:14<00:00, 35.88it/s]\n",
      "  1%|          | 3/500 [00:00<00:23, 20.89it/s]"
     ]
    },
    {
     "name": "stdout",
     "output_type": "stream",
     "text": [
      "\n",
      "---Finished...\n",
      "----Performing MC Moves----\n",
      "\n"
     ]
    },
    {
     "name": "stderr",
     "output_type": "stream",
     "text": [
      "100%|██████████| 500/500 [00:23<00:00, 20.97it/s]\n",
      "  1%|          | 4/500 [00:00<00:13, 36.16it/s]"
     ]
    },
    {
     "name": "stdout",
     "output_type": "stream",
     "text": [
      "Completed. Saving\n",
      "Current loss is 0.1345790155792584\n",
      "J value now is [0.8]\n",
      "\n",
      "---Performing Equlibration---\n",
      "\n"
     ]
    },
    {
     "name": "stderr",
     "output_type": "stream",
     "text": [
      "100%|██████████| 500/500 [00:13<00:00, 36.13it/s]\n",
      "  1%|          | 3/500 [00:00<00:24, 20.51it/s]"
     ]
    },
    {
     "name": "stdout",
     "output_type": "stream",
     "text": [
      "\n",
      "---Finished...\n",
      "----Performing MC Moves----\n",
      "\n"
     ]
    },
    {
     "name": "stderr",
     "output_type": "stream",
     "text": [
      "100%|██████████| 500/500 [00:26<00:00, 18.66it/s]\n",
      "  2%|▏         | 8/500 [00:00<00:14, 34.09it/s]"
     ]
    },
    {
     "name": "stdout",
     "output_type": "stream",
     "text": [
      "Completed. Saving\n",
      "Current loss is 0.1485655332240477\n",
      "J value now is [0.8]\n",
      "\n",
      "---Performing Equlibration---\n",
      "\n"
     ]
    },
    {
     "name": "stderr",
     "output_type": "stream",
     "text": [
      "100%|██████████| 500/500 [00:15<00:00, 32.87it/s]\n",
      "  0%|          | 2/500 [00:00<00:25, 19.43it/s]"
     ]
    },
    {
     "name": "stdout",
     "output_type": "stream",
     "text": [
      "\n",
      "---Finished...\n",
      "----Performing MC Moves----\n",
      "\n"
     ]
    },
    {
     "name": "stderr",
     "output_type": "stream",
     "text": [
      "100%|██████████| 500/500 [00:25<00:00, 17.71it/s]\n",
      "  1%|          | 4/500 [00:00<00:15, 31.38it/s]"
     ]
    },
    {
     "name": "stdout",
     "output_type": "stream",
     "text": [
      "Completed. Saving\n",
      "Current loss is 0.15657903203850748\n",
      "J value now is [0.9]\n",
      "\n",
      "---Performing Equlibration---\n",
      "\n"
     ]
    },
    {
     "name": "stderr",
     "output_type": "stream",
     "text": [
      "100%|██████████| 500/500 [00:14<00:00, 32.28it/s]\n",
      "  0%|          | 2/500 [00:00<00:28, 17.29it/s]"
     ]
    },
    {
     "name": "stdout",
     "output_type": "stream",
     "text": [
      "\n",
      "---Finished...\n",
      "----Performing MC Moves----\n",
      "\n"
     ]
    },
    {
     "name": "stderr",
     "output_type": "stream",
     "text": [
      "100%|██████████| 500/500 [00:25<00:00, 19.79it/s]\n",
      "  2%|▏         | 8/500 [00:00<00:14, 33.63it/s]"
     ]
    },
    {
     "name": "stdout",
     "output_type": "stream",
     "text": [
      "Completed. Saving\n",
      "Current loss is 0.1454451686464493\n",
      "J value now is [0.97094544]\n",
      "\n",
      "---Performing Equlibration---\n",
      "\n"
     ]
    },
    {
     "name": "stderr",
     "output_type": "stream",
     "text": [
      "100%|██████████| 500/500 [00:14<00:00, 32.55it/s]\n",
      "  0%|          | 2/500 [00:00<00:25, 19.59it/s]"
     ]
    },
    {
     "name": "stdout",
     "output_type": "stream",
     "text": [
      "\n",
      "---Finished...\n",
      "----Performing MC Moves----\n",
      "\n"
     ]
    },
    {
     "name": "stderr",
     "output_type": "stream",
     "text": [
      "100%|██████████| 500/500 [00:25<00:00, 19.69it/s]\n",
      "  1%|          | 4/500 [00:00<00:14, 35.00it/s]"
     ]
    },
    {
     "name": "stdout",
     "output_type": "stream",
     "text": [
      "Completed. Saving\n",
      "Current loss is 0.13157477819963553\n",
      "J value now is [0.97094544]\n",
      "\n",
      "---Performing Equlibration---\n",
      "\n"
     ]
    },
    {
     "name": "stderr",
     "output_type": "stream",
     "text": [
      "100%|██████████| 500/500 [00:14<00:00, 34.16it/s]\n",
      "  0%|          | 2/500 [00:00<00:25, 19.56it/s]"
     ]
    },
    {
     "name": "stdout",
     "output_type": "stream",
     "text": [
      "\n",
      "---Finished...\n",
      "----Performing MC Moves----\n",
      "\n"
     ]
    },
    {
     "name": "stderr",
     "output_type": "stream",
     "text": [
      "100%|██████████| 500/500 [00:24<00:00, 20.82it/s]\n",
      "  2%|▏         | 8/500 [00:00<00:13, 35.54it/s]"
     ]
    },
    {
     "name": "stdout",
     "output_type": "stream",
     "text": [
      "Completed. Saving\n",
      "Current loss is 0.11760541514564699\n",
      "J value now is [1.07094544]\n",
      "\n",
      "---Performing Equlibration---\n",
      "\n"
     ]
    },
    {
     "name": "stderr",
     "output_type": "stream",
     "text": [
      "100%|██████████| 500/500 [00:14<00:00, 34.89it/s]\n",
      "  0%|          | 2/500 [00:00<00:24, 19.92it/s]"
     ]
    },
    {
     "name": "stdout",
     "output_type": "stream",
     "text": [
      "\n",
      "---Finished...\n",
      "----Performing MC Moves----\n",
      "\n"
     ]
    },
    {
     "name": "stderr",
     "output_type": "stream",
     "text": [
      "100%|██████████| 500/500 [00:25<00:00, 19.70it/s]\n",
      "  2%|▏         | 8/500 [00:00<00:14, 32.91it/s]"
     ]
    },
    {
     "name": "stdout",
     "output_type": "stream",
     "text": [
      "Completed. Saving\n",
      "Current loss is 0.12442540276626066\n",
      "J value now is [0.8]\n",
      "\n",
      "---Performing Equlibration---\n",
      "\n"
     ]
    },
    {
     "name": "stderr",
     "output_type": "stream",
     "text": [
      "100%|██████████| 500/500 [00:15<00:00, 32.69it/s]\n",
      "  0%|          | 2/500 [00:00<00:26, 18.95it/s]"
     ]
    },
    {
     "name": "stdout",
     "output_type": "stream",
     "text": [
      "\n",
      "---Finished...\n",
      "----Performing MC Moves----\n",
      "\n"
     ]
    },
    {
     "name": "stderr",
     "output_type": "stream",
     "text": [
      "100%|██████████| 500/500 [00:29<00:00, 16.75it/s]\n",
      "  1%|          | 4/500 [00:00<00:14, 34.09it/s]"
     ]
    },
    {
     "name": "stdout",
     "output_type": "stream",
     "text": [
      "Completed. Saving\n",
      "Current loss is 0.17522018210627793\n",
      "J value now is [0.8]\n",
      "\n",
      "---Performing Equlibration---\n",
      "\n"
     ]
    },
    {
     "name": "stderr",
     "output_type": "stream",
     "text": [
      "100%|██████████| 500/500 [00:15<00:00, 33.12it/s]\n",
      "  1%|          | 3/500 [00:00<00:23, 20.72it/s]"
     ]
    },
    {
     "name": "stdout",
     "output_type": "stream",
     "text": [
      "\n",
      "---Finished...\n",
      "----Performing MC Moves----\n",
      "\n"
     ]
    },
    {
     "name": "stderr",
     "output_type": "stream",
     "text": [
      "100%|██████████| 500/500 [00:25<00:00, 19.64it/s]\n",
      "  2%|▏         | 8/500 [00:00<00:14, 33.11it/s]"
     ]
    },
    {
     "name": "stdout",
     "output_type": "stream",
     "text": [
      "Completed. Saving\n",
      "Current loss is 0.16489442443071475\n",
      "J value now is [0.9]\n",
      "\n",
      "---Performing Equlibration---\n",
      "\n"
     ]
    },
    {
     "name": "stderr",
     "output_type": "stream",
     "text": [
      " 67%|██████▋   | 334/500 [00:10<00:05, 31.52it/s]"
     ]
    }
   ],
   "source": [
    "#let's see if we can find this with optimization, starting with J = 0.55\n",
    "#Here we use a Newton method\n",
    "\n",
    "output = minimize(loss_func, x0 = [0.55], \n",
    "                  args = (ising_model.T,histogram, club_list), \n",
    "                  options = {'maxiter':3, 'disp':True, 'eps': 1E-1}, method = 'TNC', bounds = ((-1,1),))"
   ]
  },
  {
   "cell_type": "code",
   "execution_count": null,
   "metadata": {},
   "outputs": [],
   "source": []
  }
 ],
 "metadata": {
  "colab": {
   "collapsed_sections": [
    "3k26GWOIWhPc"
   ],
   "name": "Ising_GP RKV.ipynb",
   "provenance": []
  },
  "kernelspec": {
   "display_name": "Python 3",
   "language": "python",
   "name": "python3"
  },
  "language_info": {
   "codemirror_mode": {
    "name": "ipython",
    "version": 3
   },
   "file_extension": ".py",
   "mimetype": "text/x-python",
   "name": "python",
   "nbconvert_exporter": "python",
   "pygments_lexer": "ipython3",
   "version": "3.7.3"
  }
 },
 "nbformat": 4,
 "nbformat_minor": 1
}
