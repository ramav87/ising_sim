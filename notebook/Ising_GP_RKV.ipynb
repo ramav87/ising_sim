{
 "cells": [
  {
   "cell_type": "markdown",
   "metadata": {
    "colab_type": "text",
    "id": "xs7YyiP05Yju"
   },
   "source": [
    "# Ising Simulation\n",
    "\n",
    "This class is written to accept $J$ matrices and perform 2D Ising simulations on  a square lattice with $N^2$ sites.\n",
    "\n"
   ]
  },
  {
   "cell_type": "markdown",
   "metadata": {
    "colab_type": "text",
    "id": "3k26GWOIWhPc"
   },
   "source": [
    "# Import functions and modules"
   ]
  },
  {
   "cell_type": "code",
   "execution_count": 17,
   "metadata": {
    "colab": {},
    "colab_type": "code",
    "id": "N5w5TjIWh50u"
   },
   "outputs": [],
   "source": [
    "import numpy as np\n",
    "import matplotlib.pyplot as plt\n",
    "from scipy.stats import norm\n",
    "from scipy.optimize import fmin, minimize\n",
    "\n",
    "import sys\n",
    "sys.path.append(\"..\") # Adds higher directory to python modules path.\n",
    "\n",
    "from src.isingsim import IsingSim, compress_histogram, load_club_list, sd2_loss, loss_func"
   ]
  },
  {
   "cell_type": "code",
   "execution_count": 18,
   "metadata": {},
   "outputs": [],
   "source": [
    "#Needed for histogram compression - a list of configurations to 'club together' due to symmetry\n",
    "# You can define your own if you wish.\n",
    "club_list = load_club_list('../data/club_list.txt')"
   ]
  },
  {
   "cell_type": "markdown",
   "metadata": {
    "colab_type": "text",
    "id": "mbDG36qaSVHV"
   },
   "source": [
    "# Working Section\n",
    "\n",
    "Here we define the model. We are going with a random bond model for nearest neighbors only. This is defined by scipy distributions to sample from"
   ]
  },
  {
   "cell_type": "code",
   "execution_count": 19,
   "metadata": {
    "colab": {},
    "colab_type": "code",
    "id": "Fy-xkLBRe46C"
   },
   "outputs": [],
   "source": [
    "#define the model. You should supply a J_mat, like the one below\n",
    "\n",
    "J_mat = [[0,0,0,0,0],\n",
    "         [0,0.0,1.0,0,0],\n",
    "         [0,1.0,0,1.0,0],\n",
    "         [0,0,1.0,0,0],\n",
    "         [0,0,0,0,0]\n",
    "         ]\n",
    "\n",
    "#Instantiate Model\n",
    "ising_model =  IsingSim(N=20, J_mat = np.array(J_mat), save_trajectories=True, T = 2.5, \n",
    "                        eqSteps =500, mcSteps = 500)"
   ]
  },
  {
   "cell_type": "markdown",
   "metadata": {
    "colab_type": "text",
    "id": "THT6_0ITUTvj"
   },
   "source": [
    "## Run the simulation\n",
    "\n",
    "It should take five minutes or so. Need to explore ways to speed this up. Cython should be promising."
   ]
  },
  {
   "cell_type": "code",
   "execution_count": null,
   "metadata": {
    "colab": {
     "base_uri": "https://localhost:8080/",
     "height": 211
    },
    "colab_type": "code",
    "id": "CLIlps2Ix_bU",
    "outputId": "cb143bce-58a2-40c8-c1c0-4d45aaeacfc7"
   },
   "outputs": [
    {
     "name": "stderr",
     "output_type": "stream",
     "text": [
      "  1%|          | 5/500 [00:00<00:11, 42.56it/s]"
     ]
    },
    {
     "name": "stdout",
     "output_type": "stream",
     "text": [
      "\n",
      "---Performing Equlibration---\n",
      "\n"
     ]
    },
    {
     "name": "stderr",
     "output_type": "stream",
     "text": [
      "100%|██████████| 500/500 [00:13<00:00, 37.47it/s]\n",
      "  1%|          | 3/500 [00:00<00:24, 20.62it/s]"
     ]
    },
    {
     "name": "stdout",
     "output_type": "stream",
     "text": [
      "\n",
      "---Finished...\n",
      "----Performing MC Moves----\n",
      "\n"
     ]
    },
    {
     "name": "stderr",
     "output_type": "stream",
     "text": [
      "  6%|▌         | 31/500 [00:01<00:24, 19.54it/s]"
     ]
    }
   ],
   "source": [
    "ising_model.performIsingSim()"
   ]
  },
  {
   "cell_type": "markdown",
   "metadata": {
    "colab_type": "text",
    "id": "wtu1b4TlUgho"
   },
   "source": [
    "## Plot the results"
   ]
  },
  {
   "cell_type": "code",
   "execution_count": null,
   "metadata": {
    "colab": {
     "base_uri": "https://localhost:8080/",
     "height": 228
    },
    "colab_type": "code",
    "id": "glY8dQHrfd5Q",
    "outputId": "07a7266d-6079-4c1e-bf3b-96db577eec4c"
   },
   "outputs": [],
   "source": [
    "results = ising_model.results\n",
    "print(\"\\nEnergy: {0:2f}\\nSusceptibility: {1:2f} \\nMagnetization {2:2f} \\nSpecific Heat: {3:2f}\\n\".format(\n",
    "    results['Energy'], \n",
    "      results['Susceptibility'], \n",
    "      results['Magnetization'], \n",
    "      results['SpecificHeat']))\n",
    "\n",
    "config = results['config']\n",
    "histogram = results['Histogram']\n",
    "\n",
    "plt.figure()\n",
    "plt.imshow(config[-1,:,:])\n",
    "plt.colorbar()\n",
    "\n",
    "plt.figure(0)\n",
    "plt.bar(np.arange(len(histogram)), histogram)"
   ]
  },
  {
   "cell_type": "markdown",
   "metadata": {},
   "source": [
    "# Do some optimization"
   ]
  },
  {
   "cell_type": "code",
   "execution_count": null,
   "metadata": {
    "scrolled": true
   },
   "outputs": [],
   "source": [
    "#let's see if we can find this with optimization, starting with J = 0.55\n",
    "#Here we use a Newton method\n",
    "\n",
    "output = minimize(loss_func, x0 = [0.55], \n",
    "                  args = (ising_model.T,histogram, club_list), \n",
    "                  options = {'maxiter':3, 'disp':True, 'eps': 1E-1}, method = 'TNC', bounds = ((-1,1),))"
   ]
  },
  {
   "cell_type": "code",
   "execution_count": null,
   "metadata": {},
   "outputs": [],
   "source": []
  }
 ],
 "metadata": {
  "colab": {
   "collapsed_sections": [
    "3k26GWOIWhPc"
   ],
   "name": "Ising_GP RKV.ipynb",
   "provenance": []
  },
  "kernelspec": {
   "display_name": "Python 3",
   "language": "python",
   "name": "python3"
  },
  "language_info": {
   "codemirror_mode": {
    "name": "ipython",
    "version": 3
   },
   "file_extension": ".py",
   "mimetype": "text/x-python",
   "name": "python",
   "nbconvert_exporter": "python",
   "pygments_lexer": "ipython3",
   "version": "3.7.3"
  }
 },
 "nbformat": 4,
 "nbformat_minor": 1
}
